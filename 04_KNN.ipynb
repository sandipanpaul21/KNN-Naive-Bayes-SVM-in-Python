{
  "nbformat": 4,
  "nbformat_minor": 0,
  "metadata": {
    "colab": {
      "name": "04 KNN.ipynb",
      "provenance": [],
      "collapsed_sections": [],
      "authorship_tag": "ABX9TyOM3gM5N6xXCNyQsu3nJPLG",
      "include_colab_link": true
    },
    "kernelspec": {
      "name": "python3",
      "display_name": "Python 3"
    },
    "language_info": {
      "name": "python"
    }
  },
  "cells": [
    {
      "cell_type": "markdown",
      "metadata": {
        "id": "view-in-github",
        "colab_type": "text"
      },
      "source": [
        "<a href=\"https://colab.research.google.com/github/sandipanpaul21/KNN-Naive-Bayes-in-Python/blob/main/04_KNN.ipynb\" target=\"_parent\"><img src=\"https://colab.research.google.com/assets/colab-badge.svg\" alt=\"Open In Colab\"/></a>"
      ]
    },
    {
      "cell_type": "markdown",
      "source": [
        "**K Nearest Neighbour**\n",
        "\n",
        "- KNN is a supervised alogrithim\n",
        "- KNN used for both \n",
        "  - Classification : Return Mode of K Labels\n",
        "  - Regression : Return Mean of K Labels\n",
        "- For a given data point in the set, the algorithms find the distances between this and all other K numbers of datapoint in the dataset close to the initial point and votes for that category that has the most frequency. \n",
        "- Usually, *Euclidean distance* is taking as a measure of distance. Thus the end resultant model is just the labeled data placed in a space. \n",
        "\n",
        "**So now how do we choose K?**\n",
        "- Generally we use the Square root of the number of samples in the dataset as value for K. \n",
        "- An optimal value has to be found out since lower value may lead to overfitting and higher value may require high computational complication in distance. So using an error plot may help. \n",
        "- Another method is the elbow method. You can prefer to take root else can also follow the elbow method.\n",
        "\n",
        "**Steps in KNN**\n",
        "1. Select the value of K neighbors(say k=5)\n",
        "2. Find the K (5) nearest data point for our new data point based on euclidean distance\n",
        "3. Among these K data points count the data points in each category\n",
        "4. Assign the new data point to the category that has the most neighbors of the new datapoint\n",
        "\n",
        "**KNN is a Lazy Algorithim**\n",
        "- KNN is a Lazy learner because it doesn't learn a discriminative function from training set but memorize the trainig dataset instead. In other word, during Training Time all it is doing is to store all the data it gets.\n",
        "- For example, in logistic regression alogrithim learns its model weight (parameters) during training time. In contrast, **there is no training time in KNN**. Although it become expensive later. \n",
        "- Expensive in terms of, each time a new datapoint comes in and we want to make prediction, KNN will search for the Nearest Neighbour in the entire set. Hence prediction step becomes more time-consuming and computationally expensive.\n",
        "\n",
        "**Data Preporcessing in KNN**\n",
        "- As, it is a distance based algorithim, all columns should be in same scale\n",
        "\n",
        "\n",
        "\n"
      ],
      "metadata": {
        "id": "KSUQKc5L-Xcy"
      }
    },
    {
      "cell_type": "markdown",
      "source": [
        "**The Abalone Problem Statement**\n",
        "- The age of an abalone can be found by cutting its shell and counting the number of rings on the shell.\n",
        "- In the Abalone Dataset, you can find the age measurements of a large number of abalones along with a lot of other physical measurements.\n",
        "- The *goal of the project is to develop a model that can predict the age of an abalone based purely on the other physical measurements.* This would allow researchers to estimate the abalone’s age without having to cut its shell and count the rings.\n",
        "\n",
        "We’ll be applying a kNN to find the closest prediction score possible."
      ],
      "metadata": {
        "id": "UmtodpjX_69T"
      }
    },
    {
      "cell_type": "code",
      "execution_count": null,
      "metadata": {
        "colab": {
          "base_uri": "https://localhost:8080/",
          "height": 204
        },
        "id": "i5OTWFkS8r8c",
        "outputId": "ff079b99-6c67-43d8-8490-d29fb38e6dc8"
      },
      "outputs": [
        {
          "output_type": "execute_result",
          "data": {
            "text/html": [
              "<div>\n",
              "<style scoped>\n",
              "    .dataframe tbody tr th:only-of-type {\n",
              "        vertical-align: middle;\n",
              "    }\n",
              "\n",
              "    .dataframe tbody tr th {\n",
              "        vertical-align: top;\n",
              "    }\n",
              "\n",
              "    .dataframe thead th {\n",
              "        text-align: right;\n",
              "    }\n",
              "</style>\n",
              "<table border=\"1\" class=\"dataframe\">\n",
              "  <thead>\n",
              "    <tr style=\"text-align: right;\">\n",
              "      <th></th>\n",
              "      <th>Length</th>\n",
              "      <th>Diameter</th>\n",
              "      <th>Height</th>\n",
              "      <th>Whole weight</th>\n",
              "      <th>Shucked weight</th>\n",
              "      <th>Viscera weight</th>\n",
              "      <th>Shell weight</th>\n",
              "      <th>Rings</th>\n",
              "    </tr>\n",
              "  </thead>\n",
              "  <tbody>\n",
              "    <tr>\n",
              "      <th>0</th>\n",
              "      <td>0.455</td>\n",
              "      <td>0.365</td>\n",
              "      <td>0.095</td>\n",
              "      <td>0.5140</td>\n",
              "      <td>0.2245</td>\n",
              "      <td>0.1010</td>\n",
              "      <td>0.150</td>\n",
              "      <td>15</td>\n",
              "    </tr>\n",
              "    <tr>\n",
              "      <th>1</th>\n",
              "      <td>0.350</td>\n",
              "      <td>0.265</td>\n",
              "      <td>0.090</td>\n",
              "      <td>0.2255</td>\n",
              "      <td>0.0995</td>\n",
              "      <td>0.0485</td>\n",
              "      <td>0.070</td>\n",
              "      <td>7</td>\n",
              "    </tr>\n",
              "    <tr>\n",
              "      <th>2</th>\n",
              "      <td>0.530</td>\n",
              "      <td>0.420</td>\n",
              "      <td>0.135</td>\n",
              "      <td>0.6770</td>\n",
              "      <td>0.2565</td>\n",
              "      <td>0.1415</td>\n",
              "      <td>0.210</td>\n",
              "      <td>9</td>\n",
              "    </tr>\n",
              "    <tr>\n",
              "      <th>3</th>\n",
              "      <td>0.440</td>\n",
              "      <td>0.365</td>\n",
              "      <td>0.125</td>\n",
              "      <td>0.5160</td>\n",
              "      <td>0.2155</td>\n",
              "      <td>0.1140</td>\n",
              "      <td>0.155</td>\n",
              "      <td>10</td>\n",
              "    </tr>\n",
              "    <tr>\n",
              "      <th>4</th>\n",
              "      <td>0.330</td>\n",
              "      <td>0.255</td>\n",
              "      <td>0.080</td>\n",
              "      <td>0.2050</td>\n",
              "      <td>0.0895</td>\n",
              "      <td>0.0395</td>\n",
              "      <td>0.055</td>\n",
              "      <td>7</td>\n",
              "    </tr>\n",
              "  </tbody>\n",
              "</table>\n",
              "</div>"
            ],
            "text/plain": [
              "   Length  Diameter  Height  ...  Viscera weight  Shell weight  Rings\n",
              "0   0.455     0.365   0.095  ...          0.1010         0.150     15\n",
              "1   0.350     0.265   0.090  ...          0.0485         0.070      7\n",
              "2   0.530     0.420   0.135  ...          0.1415         0.210      9\n",
              "3   0.440     0.365   0.125  ...          0.1140         0.155     10\n",
              "4   0.330     0.255   0.080  ...          0.0395         0.055      7\n",
              "\n",
              "[5 rows x 8 columns]"
            ]
          },
          "metadata": {},
          "execution_count": 19
        }
      ],
      "source": [
        "import warnings\n",
        "warnings.filterwarnings(\"ignore\")\n",
        "import pandas as pd\n",
        "import matplotlib.pyplot as plt\n",
        "from sklearn.neighbors import KNeighborsRegressor\n",
        "from sklearn.metrics import mean_squared_error\n",
        "from math import sqrt\n",
        "import seaborn as sns\n",
        "\n",
        "url = (\"https://archive.ics.uci.edu/ml/machine-learning-databases/abalone/abalone.data\")\n",
        "abalone = pd.read_csv(url, header=None)\n",
        "abalone.columns = [\"Sex\",\"Length\",\"Diameter\",\"Height\",\"Whole weight\",\"Shucked weight\",\"Viscera weight\",\"Shell weight\",\"Rings\"]\n",
        "\n",
        "# For now wer are removinf Sex for analysis purpose\n",
        "abalone = abalone.drop(\"Sex\", axis=1)\n",
        "abalone.head()"
      ]
    },
    {
      "cell_type": "code",
      "source": [
        "# Descriptive Statistics\n",
        "# The target variable of this exercise is Rings\n",
        "\n",
        "abalone[\"Rings\"].hist(bins=15)\n",
        "plt.show()"
      ],
      "metadata": {
        "colab": {
          "base_uri": "https://localhost:8080/",
          "height": 265
        },
        "id": "p-mITgm9AYrt",
        "outputId": "9d424582-9d78-4295-969b-8debe78be661"
      },
      "execution_count": null,
      "outputs": [
        {
          "output_type": "display_data",
          "data": {
            "image/png": "[encoded data removed]",
            "text/plain": [
              "<Figure size 432x288 with 1 Axes>"
            ]
          },
          "metadata": {
            "needs_background": "light"
          }
        }
      ]
    },
    {
      "cell_type": "code",
      "source": [
        "# Correlation \n",
        "# A strong correlation between an independent variable and your goal variable would be a good sign, \n",
        "# You can observe the complete correlation matrix in correlation_matrix. \n",
        "# The most important correlations are the ones with the target variable Rings. \n",
        "\n",
        "correlation_matrix = abalone.corr()\n",
        "correlation_matrix[\"Rings\"]\n",
        "\n",
        "# Inference : \n",
        "# Now look at the correlation coefficients for Rings with the other variables. \n",
        "# The closer they are to 1, the more correlation there is.\n",
        "# Very high correlations mean that you can expect a straightforward modeling process. \n",
        "# In this case, you’ll have to try and see what results you can obtain using the kNN algorithm."
      ],
      "metadata": {
        "colab": {
          "base_uri": "https://localhost:8080/"
        },
        "id": "oEZ2ovT2BEa5",
        "outputId": "1b7e0048-a012-4b64-c30f-90bfb9c7af63"
      },
      "execution_count": null,
      "outputs": [
        {
          "output_type": "execute_result",
          "data": {
            "text/plain": [
              "Length            0.556720\n",
              "Diameter          0.574660\n",
              "Height            0.557467\n",
              "Whole weight      0.540390\n",
              "Shucked weight    0.420884\n",
              "Viscera weight    0.503819\n",
              "Shell weight      0.627574\n",
              "Rings             1.000000\n",
              "Name: Rings, dtype: float64"
            ]
          },
          "metadata": {},
          "execution_count": 8
        }
      ]
    },
    {
      "cell_type": "code",
      "source": [
        "# Separate the data into training and test data. \n",
        "X = abalone.drop(\"Rings\", axis=1)\n",
        "y = abalone[\"Rings\"]\n",
        "\n",
        "from sklearn.model_selection import train_test_split\n",
        "\n",
        "X_train, X_test, y_train, y_test = train_test_split(X, y, \n",
        "                                                    test_size=0.2, \n",
        "                                                    random_state=12345)\n",
        "# The test_size refers to the number of observations \n",
        "# that you want to put in the training data and the test data. \n",
        "# If you specify a test_size of 0.2, your test_size will be 20 percent of the original data, \n",
        "# therefore leaving the other 80 percent as training data.\n",
        "\n",
        "# The random_state is a parameter that allows you to obtain the same results every time \n",
        "# the code is run. \n",
        "# train_test_split() makes a random split in the data, \n",
        "# which is problematic for reproducing the results. \n",
        "# Therefore, it’s common to use random_state. \n",
        "# The choice of value in random_state is arbitrary.\n",
        "\n",
        "# Model Parameter\n",
        "knn_model = KNeighborsRegressor(n_neighbors=3)\n",
        "\n",
        "# Model Fit\n",
        "knn_model.fit(X_train, y_train)\n",
        "\n",
        "# Model Prediction\n",
        "test_preds = knn_model.predict(X_test)\n",
        "mse = mean_squared_error(y_test, test_preds)\n",
        "rmse = sqrt(mse)\n",
        "print(\"RMSE of K = 3 :\",rmse)"
      ],
      "metadata": {
        "colab": {
          "base_uri": "https://localhost:8080/"
        },
        "id": "5ELZ5vPwBTVt",
        "outputId": "a6659d90-7b2d-44b2-f718-203b48701cbd"
      },
      "execution_count": null,
      "outputs": [
        {
          "output_type": "stream",
          "name": "stdout",
          "text": [
            "RMSE of K = 3 : 2.375417924000521\n"
          ]
        }
      ]
    },
    {
      "cell_type": "markdown",
      "source": [
        "**Tune and Optimize kNN**\n",
        "\n",
        "**Using GridSearchCV**\n",
        "\n",
        "- Until now, you’ve always worked with k=3 in the kNN algorithm, but the best value for k is something that you need to find empirically for each dataset.\n",
        "\n",
        "- When you use few neighbors, you have a prediction that will be much more variable than when you use more neighbors:\n",
        "    - If you *use one neighbor only*\n",
        "      - The prediction can strongly change from one point to the other. \n",
        "      - When you think about your own neighbors, one may be quite different from the others. \n",
        "      - If you lived next to an outlier, your 1-NN prediction would be wrong.\n",
        "      - **Underfit or Outlier**\n",
        "\n",
        "    - If you *have multiple data points*, the impact of one extremely different neighbor will be much less.\n",
        "\n",
        "    - If you use *too many neighbors*\n",
        "      - The prediction of each point risks being very close. \n",
        "      - Let’s say that you use all neighbors for a prediction. In that case, every prediction would be the same.\n",
        "      - **Overfit**\n",
        "\n",
        "- To find the best value for k, you’re going to use a tool called GridSearchCV, used for tuning hyperparameters of machine learning models. In your case, it will help by automatically finding the best value of k for your dataset."
      ],
      "metadata": {
        "id": "RMDgo44BEtxI"
      }
    },
    {
      "cell_type": "code",
      "source": [
        "from sklearn.model_selection import GridSearchCV\n",
        "parameters = {\"n_neighbors\": range(1, 50)}\n",
        "gridsearch = GridSearchCV(KNeighborsRegressor(), parameters)\n",
        "gridsearch.fit(X_train, y_train)"
      ],
      "metadata": {
        "colab": {
          "base_uri": "https://localhost:8080/"
        },
        "id": "InYKyngsCmJ5",
        "outputId": "f715583b-ab82-48fa-cd48-9a69400d1a90"
      },
      "execution_count": null,
      "outputs": [
        {
          "output_type": "execute_result",
          "data": {
            "text/plain": [
              "GridSearchCV(estimator=KNeighborsRegressor(),\n",
              "             param_grid={'n_neighbors': range(1, 50)})"
            ]
          },
          "metadata": {},
          "execution_count": 23
        }
      ]
    },
    {
      "cell_type": "code",
      "source": [
        "# Here, you use GridSearchCV to fit the model. \n",
        "# In short, GridSearchCV repeatedly fits kNN regressors on a part of the data \n",
        "# tests the performances on the remaining part of the data. \n",
        "# Doing this repeatedly will yield a reliable estimate of the predictive performance \n",
        "# of each of the values for k. In this example, you test the values from 1 to 50.\n",
        "# In the end, it will retain the best performing value of k, which you can access with .best_params_:\n",
        "\n",
        "gridsearch.best_params_\n",
        "\n",
        "# Inference : \n",
        "# In this code, you print the parameters that have the lowest error score. \n",
        "# With .best_params_, you can see that choosing 25 as value for k \n",
        "# It will yield the best predictive performance. "
      ],
      "metadata": {
        "colab": {
          "base_uri": "https://localhost:8080/"
        },
        "id": "c9pWiGaAEPLq",
        "outputId": "5049d27c-208f-491a-d463-694793630509"
      },
      "execution_count": null,
      "outputs": [
        {
          "output_type": "execute_result",
          "data": {
            "text/plain": [
              "{'n_neighbors': 25}"
            ]
          },
          "metadata": {},
          "execution_count": 24
        }
      ]
    },
    {
      "cell_type": "code",
      "source": [
        "# Now that you know what the best value of k is, \n",
        "# you can see how it affects your train and test performances:\n",
        "\n",
        "test_preds_grid = gridsearch.predict(X_test)\n",
        "test_mse = mean_squared_error(y_test, test_preds_grid)\n",
        "test_rmse = sqrt(test_mse)\n",
        "\n",
        "print(\"RMSE for k = 25 :\",test_rmse)"
      ],
      "metadata": {
        "colab": {
          "base_uri": "https://localhost:8080/"
        },
        "id": "NHqthsZXF8Gf",
        "outputId": "aee1fd52-4dd7-4188-f5e3-ebdc19ed0955"
      },
      "execution_count": null,
      "outputs": [
        {
          "output_type": "stream",
          "name": "stdout",
          "text": [
            "RMSE for k = 25 : 2.1700197339962175\n"
          ]
        }
      ]
    },
    {
      "cell_type": "markdown",
      "source": [
        "**Choosing a K Value**\n",
        "\n",
        "- Let’s go ahead and use the elbow method to pick a good K Value. \n",
        "- We will basically check the error rate for k = 1 to say k = 40. \n",
        "- For every value of k we will call KNN classifier and then choose the value of k which has the least error rate."
      ],
      "metadata": {
        "id": "7dr5M8bJU05o"
      }
    },
    {
      "cell_type": "code",
      "source": [
        "# Choose the K value which have least RMSE Value\n",
        "\n",
        "import numpy as np\n",
        "error_rate = []\n",
        "# Might take some time\n",
        "for i in range(1,40):\n",
        "    knn = KNeighborsRegressor(n_neighbors=i)\n",
        "    knn.fit(X_train,y_train)\n",
        "    y_pred = knn.predict(X_test)\n",
        "    error_rate.append(sqrt(mean_squared_error(y_test,y_pred)))\n",
        "\n",
        "# Plot for Error Rate vs K Value\n",
        "plt.figure(figsize=(10,6))\n",
        "plt.plot(range(1,40),error_rate,color='blue', linestyle='dashed', marker='o',\n",
        "         markerfacecolor='red', markersize=10)\n",
        "plt.title('RMSE Error Rate vs. K Value')\n",
        "plt.xlabel('K')\n",
        "plt.ylabel('RMSE Error Rate')"
      ],
      "metadata": {
        "colab": {
          "base_uri": "https://localhost:8080/",
          "height": 422
        },
        "id": "Kq3BCK7PTbkk",
        "outputId": "650618e0-8dfe-4529-ca0e-acbe77888c7d"
      },
      "execution_count": null,
      "outputs": [
        {
          "output_type": "execute_result",
          "data": {
            "text/plain": [
              "Text(0, 0.5, 'RMSE Error Rate')"
            ]
          },
          "metadata": {},
          "execution_count": 36
        },
        {
          "output_type": "display_data",
          "data": {
            "image/png": "[encoded data removed]",
            "text/plain": [
              "<Figure size 720x432 with 1 Axes>"
            ]
          },
          "metadata": {
            "needs_background": "light"
          }
        }
      ]
    }
  ]
}